{
 "cells": [
  {
   "cell_type": "code",
   "execution_count": 1,
   "metadata": {},
   "outputs": [
    {
     "name": "stdout",
     "output_type": "stream",
     "text": [
      "c:\\Users\\abdul\\Desktop\\TUM\\thesis\\thesis\n"
     ]
    }
   ],
   "source": [
    "%cd ../.."
   ]
  },
  {
   "cell_type": "code",
   "execution_count": 2,
   "metadata": {},
   "outputs": [
    {
     "name": "stdout",
     "output_type": "stream",
     "text": [
      "Number of parameters: 274579\n",
      "Input shape: torch.Size([64, 3, 128, 128]), output shape: torch.Size([64, 1, 128, 128])\n"
     ]
    }
   ],
   "source": [
    "from src.unet.unet_torch import UNet\n",
    "import torch\n",
    "\n",
    "input_tensor = torch.randn(64, 3, 128, 128)\n",
    "model = UNet().eval()\n",
    "output_tensor = model(input_tensor)\n",
    "print(f\"Number of parameters: {sum(param.numel() for param in model.parameters())}\")\n",
    "print(f\"Input shape: {input_tensor.shape}, output shape: {output_tensor.shape}\")"
   ]
  }
 ],
 "metadata": {
  "kernelspec": {
   "display_name": "venv",
   "language": "python",
   "name": "python3"
  },
  "language_info": {
   "codemirror_mode": {
    "name": "ipython",
    "version": 3
   },
   "file_extension": ".py",
   "mimetype": "text/x-python",
   "name": "python",
   "nbconvert_exporter": "python",
   "pygments_lexer": "ipython3",
   "version": "3.9.11"
  },
  "orig_nbformat": 4,
  "vscode": {
   "interpreter": {
    "hash": "af431e47faa76b997e1e262121c21fac9cc19372e155be8037ce9023fac04adf"
   }
  }
 },
 "nbformat": 4,
 "nbformat_minor": 2
}
