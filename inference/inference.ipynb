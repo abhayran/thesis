{
 "cells": [
  {
   "cell_type": "code",
   "execution_count": 1,
   "id": "28353530-91ca-4556-9701-3916de0c72da",
   "metadata": {},
   "outputs": [],
   "source": [
    "from models.common import DetectMultiBackend\n",
    "from utils.general import non_max_suppression\n",
    "from utils.torch_utils import smart_inference_mode\n",
    "\n",
    "import numpy as np\n",
    "import torch\n",
    "from typing import List"
   ]
  },
  {
   "cell_type": "code",
   "execution_count": 13,
   "id": "8fa37d87-3c27-42ec-afec-d42e2a5f076a",
   "metadata": {},
   "outputs": [],
   "source": [
    "class Inference:\n",
    "    def __init__(\n",
    "        self,\n",
    "        model_path: str,\n",
    "        config_path: str,\n",
    "        device: torch.device,\n",
    "        conf_thres=0.25,\n",
    "        iou_thres=0.45,\n",
    "        max_det=1000,\n",
    "    ):\n",
    "        self.model = DetectMultiBackend(model_path, device=device, dnn=False, data=config_path, fp16=False)\n",
    "        self.device = device\n",
    "        self.conf_thres = conf_thres\n",
    "        self.iou_thres = iou_thres\n",
    "        self.max_det = max_det\n",
    "    \n",
    "    @smart_inference_mode()\n",
    "    def __call__(self, images: List[np.ndarray]):\n",
    "        x = torch.from_numpy(np.stack(images)).float().to(self.device).permute(0, 3, 1, 2) / 255.\n",
    "        pred = self.model(x, augment=False, visualize=False)\n",
    "        pred = non_max_suppression(pred, self.conf_thres, self.iou_thres, None, False, max_det=self.max_det)\n",
    "        return pred"
   ]
  },
  {
   "cell_type": "code",
   "execution_count": 15,
   "id": "71816a8f-dad3-450b-bfc9-b1fd97f4193d",
   "metadata": {},
   "outputs": [
    {
     "name": "stderr",
     "output_type": "stream",
     "text": [
      "Fusing layers... \n",
      "Model summary: 212 layers, 20852934 parameters, 0 gradients, 47.9 GFLOPs\n"
     ]
    }
   ],
   "source": [
    "inference = Inference(\n",
    "    \"best.pt\",\n",
    "    \"yolov5/data/lizard.yaml\",\n",
    "    torch.device(\"cpu\"),\n",
    ")"
   ]
  },
  {
   "cell_type": "code",
   "execution_count": 18,
   "id": "1c1a63c6-c951-41de-972a-8b9cc64ec3ec",
   "metadata": {},
   "outputs": [
    {
     "data": {
      "text/plain": [
       "[tensor([], size=(0, 6)),\n",
       " tensor([], size=(0, 6)),\n",
       " tensor([], size=(0, 6)),\n",
       " tensor([], size=(0, 6)),\n",
       " tensor([], size=(0, 6)),\n",
       " tensor([], size=(0, 6)),\n",
       " tensor([], size=(0, 6)),\n",
       " tensor([], size=(0, 6)),\n",
       " tensor([], size=(0, 6)),\n",
       " tensor([], size=(0, 6))]"
      ]
     },
     "execution_count": 18,
     "metadata": {},
     "output_type": "execute_result"
    }
   ],
   "source": [
    "pres = inference(tiles[:10])\n",
    "pres"
   ]
  },
  {
   "cell_type": "code",
   "execution_count": 17,
   "id": "f890a7cc-d747-4e4f-bb0a-3d9a952777f4",
   "metadata": {},
   "outputs": [
    {
     "data": {
      "text/plain": [
       "(256, 256, 3)"
      ]
     },
     "execution_count": 17,
     "metadata": {},
     "output_type": "execute_result"
    }
   ],
   "source": [
    "tiles[0].shape"
   ]
  }
 ],
 "metadata": {
  "kernelspec": {
   "display_name": "Python 3 (ipykernel)",
   "language": "python",
   "name": "python3"
  },
  "language_info": {
   "codemirror_mode": {
    "name": "ipython",
    "version": 3
   },
   "file_extension": ".py",
   "mimetype": "text/x-python",
   "name": "python",
   "nbconvert_exporter": "python",
   "pygments_lexer": "ipython3",
   "version": "3.8.10"
  }
 },
 "nbformat": 4,
 "nbformat_minor": 5
}
