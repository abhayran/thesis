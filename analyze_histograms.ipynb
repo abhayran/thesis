{
 "cells": [
  {
   "cell_type": "code",
   "execution_count": 1,
   "metadata": {},
   "outputs": [],
   "source": [
    "import numpy as np\n",
    "import os\n",
    "from matplotlib import pyplot as plt\n",
    "import seaborn\n",
    "\n",
    "ORTHOPEDIA_DIR = \"/mnt/dss/dssfs04/pn25ke/pn25ke-dss-0001/orthopedia\""
   ]
  },
  {
   "cell_type": "code",
   "execution_count": 2,
   "metadata": {},
   "outputs": [],
   "source": [
    "def plot_histogram(array: np.ndarray) -> None:\n",
    "    ax = seaborn.histplot(array, bins=np.max(array) + 1)\n",
    "    plt.show()"
   ]
  },
  {
   "cell_type": "code",
   "execution_count": 3,
   "metadata": {},
   "outputs": [],
   "source": [
    "histograms = {\n",
    "    \"infect\": dict(),\n",
    "    \"noinfect\": dict(),\n",
    "}\n",
    "\n",
    "for key in histograms:\n",
    "    key_path = os.path.join(ORTHOPEDIA_DIR, f\"{key}_inference\")\n",
    "    for fn_folder in os.listdir(key_path):\n",
    "        fn_path = os.path.join(key_path, fn_folder)\n",
    "        histograms[key][fn_folder] = np.concatenate([np.load(os.path.join(fn_path, f)) for f in os.listdir(fn_path)])"
   ]
  },
  {
   "cell_type": "code",
   "execution_count": 11,
   "metadata": {},
   "outputs": [
    {
     "name": "stdout",
     "output_type": "stream",
     "text": [
      "infect mean: 0.709\n",
      "noinfect mean: 0.375\n",
      "infect median: 0.474\n",
      "noinfect median: 0.333\n"
     ]
    }
   ],
   "source": [
    "for key in histograms:\n",
    "    print(f\"{key} mean: {np.mean([np.mean(item) for item in histograms[key].values()]):.3f}\")\n",
    "for key in histograms:\n",
    "    print(f\"{key} median: {np.median([np.mean(item) for item in histograms[key].values()]):.3f}\")"
   ]
  }
 ],
 "metadata": {
  "kernelspec": {
   "display_name": "Python 3 (ipykernel)",
   "language": "python",
   "name": "python3"
  },
  "language_info": {
   "codemirror_mode": {
    "name": "ipython",
    "version": 3
   },
   "file_extension": ".py",
   "mimetype": "text/x-python",
   "name": "python",
   "nbconvert_exporter": "python",
   "pygments_lexer": "ipython3",
   "version": "3.8.10"
  }
 },
 "nbformat": 4,
 "nbformat_minor": 4
}
